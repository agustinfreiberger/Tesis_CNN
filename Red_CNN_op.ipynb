{
  "nbformat": 4,
  "nbformat_minor": 0,
  "metadata": {
    "colab": {
      "name": "Red CNN op.ipynb",
      "version": "0.3.2",
      "provenance": [],
      "include_colab_link": true
    },
    "kernelspec": {
      "name": "python3",
      "display_name": "Python 3"
    },
    "accelerator": "GPU"
  },
  "cells": [
    {
      "cell_type": "markdown",
      "metadata": {
        "id": "view-in-github",
        "colab_type": "text"
      },
      "source": [
        "<a href=\"https://colab.research.google.com/github/agustinfreiberger/Tesis_CNN/blob/master/Red_CNN_op.ipynb\" target=\"_parent\"><img src=\"https://colab.research.google.com/assets/colab-badge.svg\" alt=\"Open In Colab\"/></a>"
      ]
    },
    {
      "cell_type": "code",
      "metadata": {
        "id": "PXHZp3ZFlPql",
        "colab_type": "code",
        "colab": {}
      },
      "source": [
        "import numpy as np\n",
        "import os\n",
        "import re\n",
        "import matplotlib.pyplot as plt\n",
        "%matplotlib inline\n",
        "from sklearn.model_selection import train_test_split\n",
        "from sklearn.metrics import classification_report"
      ],
      "execution_count": 0,
      "outputs": []
    },
    {
      "cell_type": "code",
      "metadata": {
        "id": "vL9-f1kBlRrR",
        "colab_type": "code",
        "colab": {}
      },
      "source": [
        "import keras\n",
        "from keras.utils import to_categorical\n",
        "from keras.models import Sequential,Input,Model\n",
        "from keras.layers import Dense, Dropout, Flatten\n",
        "from keras.layers import Conv2D, MaxPooling2D\n",
        "from keras.layers.normalization import BatchNormalization\n",
        "from keras.layers.advanced_activations import LeakyReLU"
      ],
      "execution_count": 0,
      "outputs": []
    },
    {
      "cell_type": "code",
      "metadata": {
        "id": "WOaPppMGoGHG",
        "colab_type": "code",
        "colab": {}
      },
      "source": [
        "from google.colab import files\n",
        "##El zip debe estar subido a content de colab\n",
        "uploaded = files.upload()"
      ],
      "execution_count": 0,
      "outputs": []
    },
    {
      "cell_type": "code",
      "metadata": {
        "id": "6HYLPBiHlqh2",
        "colab_type": "code",
        "colab": {}
      },
      "source": [
        "import zipfile\n",
        "zip_ref = zipfile.ZipFile(\"dataset-resized.zip\", 'r')\n",
        "zip_ref.extractall()\n",
        "zip_ref.close()"
      ],
      "execution_count": 0,
      "outputs": []
    },
    {
      "cell_type": "code",
      "metadata": {
        "id": "mEqXQ_boned0",
        "colab_type": "code",
        "colab": {}
      },
      "source": [
        "import matplotlib.pyplot as plt\n",
        "\n",
        "from skimage import data, color\n",
        "from skimage.transform import resize\n",
        "def imagerescaled(image):\n",
        "  image_resized = resize(image, (image.shape[0] / 4, image.shape[1] / 4),\n",
        "                         anti_aliasing=True)\n",
        "  return image_resized"
      ],
      "execution_count": 0,
      "outputs": []
    },
    {
      "cell_type": "code",
      "metadata": {
        "id": "6Y-U-tT7lTs0",
        "colab_type": "code",
        "outputId": "bc2ea981-68c4-44c4-b912-98f410f2765b",
        "colab": {
          "base_uri": "https://localhost:8080/",
          "height": 163
        }
      },
      "source": [
        "dirname = os.path.join(os.getcwd(), 'dataset-resized')\n",
        "imgpath = dirname + os.sep \n",
        "\n",
        "images = []\n",
        "directories = []\n",
        "dircount = []\n",
        "prevRoot=''\n",
        "cant=0\n",
        "\n",
        "print(\"leyendo imagenes de \",imgpath)\n",
        "\n",
        "for root, dirnames, filenames in os.walk(imgpath):\n",
        "    for filename in filenames:\n",
        "        if re.search(\"\\.(jpg|jpeg|png|bmp|tiff)$\", filename):\n",
        "            if prevRoot !=root:\n",
        "                print(root, cant)\n",
        "                prevRoot=root\n",
        "                directories.append(root)\n",
        "                dircount.append(cant)\n",
        "                cant=0\n",
        "            filepath = os.path.join(root, filename)\n",
        "            image = plt.imread(filepath)\n",
        "            images.extend(augmentedImg(imagerescaled(image)))\n",
        "            cant=cant+3\n",
        "            b = \"Leyendo...\" + str(cant)\n",
        "            print (b, end=\"\\r\")\n",
        "dircount.append(cant)\n",
        "dircount = dircount[1:]\n",
        "#dircount[0]=dircount[0]+1\n",
        "print('Directorios leidos:',len(directories))\n",
        "print(\"Imagenes en cada directorio\", dircount)\n",
        "print('suma Total de imagenes en subdirs:',sum(dircount))"
      ],
      "execution_count": 0,
      "outputs": [
        {
          "output_type": "stream",
          "text": [
            "leyendo imagenes de  /content/dataset-resized/\n",
            "/content/dataset-resized/cardboard 1\n",
            "/content/dataset-resized/glass 403\n",
            "/content/dataset-resized/paper 501\n",
            "/content/dataset-resized/plastic 594\n",
            "/content/dataset-resized/metal 482\n",
            "Directorios leidos: 5\n",
            "Imagenes en cada directorio [404, 501, 594, 482, 409]\n",
            "suma Total de imagenes en subdirs: 2390\n"
          ],
          "name": "stdout"
        }
      ]
    },
    {
      "cell_type": "code",
      "metadata": {
        "id": "wtmeBmvpldjw",
        "colab_type": "code",
        "outputId": "8ebc1b4a-8665-4d3e-bd30-0f3e400f2216",
        "colab": {
          "base_uri": "https://localhost:8080/",
          "height": 33
        }
      },
      "source": [
        "labels=[]\n",
        "indice=0\n",
        "for cantidad in dircount:\n",
        "    for i in range(cantidad):\n",
        "        labels.append(indice)\n",
        "    indice=indice+1\n",
        "print(\"Cantidad etiquetas creadas: \",len(labels))"
      ],
      "execution_count": 0,
      "outputs": [
        {
          "output_type": "stream",
          "text": [
            "Cantidad etiquetas creadas:  2390\n"
          ],
          "name": "stdout"
        }
      ]
    },
    {
      "cell_type": "code",
      "metadata": {
        "id": "i5M4MBPJmUDM",
        "colab_type": "code",
        "outputId": "478dcfe1-f4b0-4d8d-ab8d-cc7c3197089c",
        "colab": {
          "base_uri": "https://localhost:8080/",
          "height": 98
        }
      },
      "source": [
        "materiales=[]\n",
        "indice=0\n",
        "for directorio in directories:\n",
        "    name = directorio.split(os.sep)\n",
        "    print(indice , name[len(name)-1])\n",
        "    materiales.append(name[len(name)-1])\n",
        "    indice=indice+1"
      ],
      "execution_count": 0,
      "outputs": [
        {
          "output_type": "stream",
          "text": [
            "0 cardboard\n",
            "1 glass\n",
            "2 paper\n",
            "3 plastic\n",
            "4 metal\n"
          ],
          "name": "stdout"
        }
      ]
    },
    {
      "cell_type": "code",
      "metadata": {
        "id": "fnfyQihlmbH5",
        "colab_type": "code",
        "outputId": "0fcffeaf-e773-4892-e630-2eb91a2f4156",
        "colab": {
          "base_uri": "https://localhost:8080/",
          "height": 50
        }
      },
      "source": [
        "y = np.array(labels)\n",
        "X = np.array(images) #convierto de lista a numpy\n",
        "\n",
        "# Find the unique numbers from the train labels\n",
        "classes = np.unique(y)\n",
        "nClasses = len(classes)\n",
        "print('Total number of outputs : ', nClasses)\n",
        "print('Output classes : ', classes)"
      ],
      "execution_count": 0,
      "outputs": [
        {
          "output_type": "stream",
          "text": [
            "Total number of outputs :  5\n",
            "Output classes :  [0 1 2 3 4]\n"
          ],
          "name": "stdout"
        }
      ]
    },
    {
      "cell_type": "code",
      "metadata": {
        "id": "uJ3Gec40mgMJ",
        "colab_type": "code",
        "outputId": "3623b6c7-9861-4ebd-cc46-9b4dc98fd59a",
        "colab": {
          "base_uri": "https://localhost:8080/",
          "height": 50
        }
      },
      "source": [
        "#hacer split por clase no por total\n",
        "\n",
        "train_X,test_X,train_Y,test_Y = train_test_split(X,y,test_size=0.3)\n",
        "print('Training data shape : ', train_X.shape, train_Y.shape)\n",
        "print('Testing data shape : ', test_X.shape, test_Y.shape)"
      ],
      "execution_count": 0,
      "outputs": [
        {
          "output_type": "stream",
          "text": [
            "Training data shape :  (1673, 96, 128, 3) (1673,)\n",
            "Testing data shape :  (717, 96, 128, 3) (717,)\n"
          ],
          "name": "stdout"
        }
      ]
    },
    {
      "cell_type": "code",
      "metadata": {
        "id": "qbnNOA0Omob7",
        "colab_type": "code",
        "outputId": "00fbfca0-9745-400f-c984-8001b0ada227",
        "colab": {
          "base_uri": "https://localhost:8080/",
          "height": 176
        }
      },
      "source": [
        "plt.figure(figsize=[5,5])\n",
        "\n",
        "# Display the first image in training data\n",
        "plt.subplot(121)\n",
        "plt.imshow(train_X[0], cmap='gray')\n",
        "plt.title(\"Ground Truth : {}\".format(train_Y[0]))\n",
        "\n",
        "# Display the first image in testing data\n",
        "plt.subplot(122)\n",
        "plt.imshow(test_X[0], cmap='gray')\n",
        "plt.title(\"Ground Truth : {}\".format(test_Y[0]))"
      ],
      "execution_count": 0,
      "outputs": [
        {
          "output_type": "execute_result",
          "data": {
            "text/plain": [
              "Text(0.5, 1.0, 'Ground Truth : 2')"
            ]
          },
          "metadata": {
            "tags": []
          },
          "execution_count": 143
        },
        {
          "output_type": "display_data",
          "data": {
            "image/png": "[encoded data removed]",
            "text/plain": [
              "<Figure size 360x360 with 2 Axes>"
            ]
          },
          "metadata": {
            "tags": []
          }
        }
      ]
    },
    {
      "cell_type": "code",
      "metadata": {
        "id": "vaIbysKOtGwZ",
        "colab_type": "code",
        "colab": {}
      },
      "source": [
        "#train_X = np.reshape(train_X,(2021,96,128,1))\n",
        "#test_X = np.reshape(test_X,(506,96,128,1))\n",
        "\n",
        "train_X = train_X.astype('float32')\n",
        "test_X = test_X.astype('float32')\n",
        "train_X = train_X / 255.\n",
        "test_X = test_X / 255."
      ],
      "execution_count": 0,
      "outputs": []
    },
    {
      "cell_type": "code",
      "metadata": {
        "id": "cucyyZewtL6b",
        "colab_type": "code",
        "outputId": "aace03a5-810c-40dd-859c-45cf01514ff6",
        "colab": {
          "base_uri": "https://localhost:8080/",
          "height": 50
        }
      },
      "source": [
        "# Change the labels from categorical to one-hot encoding\n",
        "train_Y_one_hot = to_categorical(train_Y)\n",
        "test_Y_one_hot = to_categorical(test_Y)\n",
        "\n",
        "# Display the change for category label using one-hot encoding\n",
        "print('Original label:', train_Y[0])\n",
        "print('After conversion to one-hot:', train_Y_one_hot[0])"
      ],
      "execution_count": 0,
      "outputs": [
        {
          "output_type": "stream",
          "text": [
            "Original label: 4\n",
            "After conversion to one-hot: [0. 0. 0. 0. 1.]\n"
          ],
          "name": "stdout"
        }
      ]
    },
    {
      "cell_type": "code",
      "metadata": {
        "id": "sJoi0HbFtiC8",
        "colab_type": "code",
        "colab": {}
      },
      "source": [
        "#Mezclar todo y crear los grupos de entrenamiento y testing\n",
        "train_X,valid_X,train_label,valid_label = train_test_split(train_X, train_Y_one_hot, test_size=0.2, random_state=13)"
      ],
      "execution_count": 0,
      "outputs": []
    },
    {
      "cell_type": "code",
      "metadata": {
        "id": "yoIs_fyotkrS",
        "colab_type": "code",
        "outputId": "ac3d3249-e54e-41e5-d331-ffd080cbf6ff",
        "colab": {
          "base_uri": "https://localhost:8080/",
          "height": 33
        }
      },
      "source": [
        "print(train_X.shape,valid_X.shape,train_label.shape,valid_label.shape)"
      ],
      "execution_count": 0,
      "outputs": [
        {
          "output_type": "stream",
          "text": [
            "(1338, 96, 128, 3) (335, 96, 128, 3) (1338, 5) (335, 5)\n"
          ],
          "name": "stdout"
        }
      ]
    },
    {
      "cell_type": "code",
      "metadata": {
        "id": "no1D_2F6trvs",
        "colab_type": "code",
        "colab": {}
      },
      "source": [
        "#declaramos variables con los parámetros de configuración de la red\n",
        "INIT_LR = 1e-3 # Valor inicial de learning rate. El valor 1e-3 corresponde con 0.001\n",
        "epochs = 100 # Cantidad de iteraciones completas al conjunto de imagenes de entrenamiento\n",
        "batch_size = 32 # cantidad de imágenes que se toman a la vez en memoria"
      ],
      "execution_count": 0,
      "outputs": []
    },
    {
      "cell_type": "code",
      "metadata": {
        "id": "7_KTvDnJt4Aj",
        "colab_type": "code",
        "colab": {}
      },
      "source": [
        "material_model = Sequential()\n",
        "material_model.add(Conv2D(32, kernel_size=(3, 3),activation='linear',padding='same',input_shape=(96,128,3)))\n",
        "material_model.add(LeakyReLU(alpha=0.1))\n",
        "material_model.add(MaxPooling2D((2, 2),padding='same'))\n",
        "material_model.add(Dropout(0.5))\n",
        "\n",
        "material_model.add(Flatten())\n",
        "material_model.add(Dense(32, activation='linear'))\n",
        "material_model.add(LeakyReLU(alpha=0.1))\n",
        "material_model.add(Dropout(0.5))\n",
        "material_model.add(Dense(nClasses, activation='softmax'))"
      ],
      "execution_count": 0,
      "outputs": []
    },
    {
      "cell_type": "code",
      "metadata": {
        "id": "YYIzkMU5t4QH",
        "colab_type": "code",
        "outputId": "83727be6-b575-49ad-9cf3-59c0c04f4143",
        "colab": {
          "base_uri": "https://localhost:8080/",
          "height": 423
        }
      },
      "source": [
        "material_model.summary()"
      ],
      "execution_count": 0,
      "outputs": [
        {
          "output_type": "stream",
          "text": [
            "_________________________________________________________________\n",
            "Layer (type)                 Output Shape              Param #   \n",
            "=================================================================\n",
            "conv2d_5 (Conv2D)            (None, 96, 128, 32)       896       \n",
            "_________________________________________________________________\n",
            "leaky_re_lu_9 (LeakyReLU)    (None, 96, 128, 32)       0         \n",
            "_________________________________________________________________\n",
            "max_pooling2d_5 (MaxPooling2 (None, 48, 64, 32)        0         \n",
            "_________________________________________________________________\n",
            "dropout_9 (Dropout)          (None, 48, 64, 32)        0         \n",
            "_________________________________________________________________\n",
            "flatten_5 (Flatten)          (None, 98304)             0         \n",
            "_________________________________________________________________\n",
            "dense_9 (Dense)              (None, 32)                3145760   \n",
            "_________________________________________________________________\n",
            "leaky_re_lu_10 (LeakyReLU)   (None, 32)                0         \n",
            "_________________________________________________________________\n",
            "dropout_10 (Dropout)         (None, 32)                0         \n",
            "_________________________________________________________________\n",
            "dense_10 (Dense)             (None, 5)                 165       \n",
            "=================================================================\n",
            "Total params: 3,146,821\n",
            "Trainable params: 3,146,821\n",
            "Non-trainable params: 0\n",
            "_________________________________________________________________\n"
          ],
          "name": "stdout"
        }
      ]
    },
    {
      "cell_type": "code",
      "metadata": {
        "id": "RS45QaoLv0T3",
        "colab_type": "code",
        "colab": {}
      },
      "source": [
        "material_model.compile(loss=keras.losses.categorical_crossentropy, optimizer=keras.optimizers.Adagrad(lr=INIT_LR, decay=INIT_LR / 100),metrics=['accuracy'])"
      ],
      "execution_count": 0,
      "outputs": []
    },
    {
      "cell_type": "code",
      "metadata": {
        "id": "HHyYIh14wQhc",
        "colab_type": "code",
        "outputId": "82f0bedf-5635-476d-eecf-acc8de47d63a",
        "colab": {
          "base_uri": "https://localhost:8080/",
          "height": 1000
        }
      },
      "source": [
        "material_train = material_model.fit(train_X, train_label, batch_size=batch_size,epochs=epochs,verbose=1,validation_data=(valid_X, valid_label))"
      ],
      "execution_count": 0,
      "outputs": [
        {
          "output_type": "stream",
          "text": [
            "Train on 1338 samples, validate on 335 samples\n",
            "Epoch 1/100\n",
            "1338/1338 [==============================] - 1s 1ms/step - loss: 1.6039 - acc: 0.2272 - val_loss: 1.5934 - val_acc: 0.2687\n",
            "Epoch 2/100\n",
            "1338/1338 [==============================] - 1s 530us/step - loss: 1.5978 - acc: 0.2481 - val_loss: 1.5858 - val_acc: 0.2687\n",
            "Epoch 3/100\n",
            "1338/1338 [==============================] - 1s 512us/step - loss: 1.5889 - acc: 0.2564 - val_loss: 1.5744 - val_acc: 0.2687\n",
            "Epoch 4/100\n",
            "1338/1338 [==============================] - 1s 509us/step - loss: 1.5801 - acc: 0.2706 - val_loss: 1.5733 - val_acc: 0.2687\n",
            "Epoch 5/100\n",
            "1338/1338 [==============================] - 1s 503us/step - loss: 1.5749 - acc: 0.2571 - val_loss: 1.5622 - val_acc: 0.2925\n",
            "Epoch 6/100\n",
            "1338/1338 [==============================] - 1s 510us/step - loss: 1.5667 - acc: 0.2825 - val_loss: 1.5597 - val_acc: 0.3731\n",
            "Epoch 7/100\n",
            "1338/1338 [==============================] - 1s 502us/step - loss: 1.5639 - acc: 0.2915 - val_loss: 1.5546 - val_acc: 0.3612\n",
            "Epoch 8/100\n",
            "1338/1338 [==============================] - 1s 504us/step - loss: 1.5590 - acc: 0.2975 - val_loss: 1.5477 - val_acc: 0.3343\n",
            "Epoch 9/100\n",
            "1338/1338 [==============================] - 1s 507us/step - loss: 1.5495 - acc: 0.3064 - val_loss: 1.5447 - val_acc: 0.3254\n",
            "Epoch 10/100\n",
            "1338/1338 [==============================] - 1s 505us/step - loss: 1.5433 - acc: 0.3214 - val_loss: 1.5357 - val_acc: 0.3343\n",
            "Epoch 11/100\n",
            "1338/1338 [==============================] - 1s 506us/step - loss: 1.5400 - acc: 0.3206 - val_loss: 1.5319 - val_acc: 0.3045\n",
            "Epoch 12/100\n",
            "1338/1338 [==============================] - 1s 510us/step - loss: 1.5381 - acc: 0.3206 - val_loss: 1.5264 - val_acc: 0.3045\n",
            "Epoch 13/100\n",
            "1338/1338 [==============================] - 1s 511us/step - loss: 1.5337 - acc: 0.3229 - val_loss: 1.5271 - val_acc: 0.3403\n",
            "Epoch 14/100\n",
            "1338/1338 [==============================] - 1s 506us/step - loss: 1.5307 - acc: 0.3176 - val_loss: 1.5270 - val_acc: 0.3522\n",
            "Epoch 15/100\n",
            "1338/1338 [==============================] - 1s 511us/step - loss: 1.5241 - acc: 0.3475 - val_loss: 1.5086 - val_acc: 0.3821\n",
            "Epoch 16/100\n",
            "1338/1338 [==============================] - 1s 502us/step - loss: 1.5173 - acc: 0.3453 - val_loss: 1.4990 - val_acc: 0.4179\n",
            "Epoch 17/100\n",
            "1338/1338 [==============================] - 1s 504us/step - loss: 1.5041 - acc: 0.3580 - val_loss: 1.4936 - val_acc: 0.4299\n",
            "Epoch 18/100\n",
            "1338/1338 [==============================] - 1s 505us/step - loss: 1.5034 - acc: 0.3737 - val_loss: 1.4903 - val_acc: 0.4179\n",
            "Epoch 19/100\n",
            "1338/1338 [==============================] - 1s 503us/step - loss: 1.4923 - acc: 0.3647 - val_loss: 1.4936 - val_acc: 0.3522\n",
            "Epoch 20/100\n",
            "1338/1338 [==============================] - 1s 509us/step - loss: 1.4986 - acc: 0.3587 - val_loss: 1.4870 - val_acc: 0.3672\n",
            "Epoch 21/100\n",
            "1338/1338 [==============================] - 1s 513us/step - loss: 1.4916 - acc: 0.3692 - val_loss: 1.4784 - val_acc: 0.3910\n",
            "Epoch 22/100\n",
            "1338/1338 [==============================] - 1s 506us/step - loss: 1.4909 - acc: 0.3744 - val_loss: 1.4769 - val_acc: 0.3791\n",
            "Epoch 23/100\n",
            "1338/1338 [==============================] - 1s 509us/step - loss: 1.4936 - acc: 0.3655 - val_loss: 1.4722 - val_acc: 0.4209\n",
            "Epoch 24/100\n",
            "1338/1338 [==============================] - 1s 503us/step - loss: 1.4907 - acc: 0.3587 - val_loss: 1.4695 - val_acc: 0.4090\n",
            "Epoch 25/100\n",
            "1338/1338 [==============================] - 1s 507us/step - loss: 1.4855 - acc: 0.3550 - val_loss: 1.4660 - val_acc: 0.4119\n",
            "Epoch 26/100\n",
            "1338/1338 [==============================] - 1s 511us/step - loss: 1.4754 - acc: 0.3744 - val_loss: 1.4616 - val_acc: 0.4090\n",
            "Epoch 27/100\n",
            "1338/1338 [==============================] - 1s 508us/step - loss: 1.4778 - acc: 0.3744 - val_loss: 1.4584 - val_acc: 0.4269\n",
            "Epoch 28/100\n",
            "1338/1338 [==============================] - 1s 506us/step - loss: 1.4799 - acc: 0.3647 - val_loss: 1.4576 - val_acc: 0.4119\n",
            "Epoch 29/100\n",
            "1338/1338 [==============================] - 1s 508us/step - loss: 1.4760 - acc: 0.3692 - val_loss: 1.4552 - val_acc: 0.4090\n",
            "Epoch 30/100\n",
            "1338/1338 [==============================] - 1s 499us/step - loss: 1.4691 - acc: 0.3655 - val_loss: 1.4563 - val_acc: 0.4090\n",
            "Epoch 31/100\n",
            "1338/1338 [==============================] - 1s 508us/step - loss: 1.4704 - acc: 0.3864 - val_loss: 1.4524 - val_acc: 0.3910\n",
            "Epoch 32/100\n",
            "1338/1338 [==============================] - 1s 508us/step - loss: 1.4606 - acc: 0.3842 - val_loss: 1.4489 - val_acc: 0.3970\n",
            "Epoch 33/100\n",
            "1338/1338 [==============================] - 1s 509us/step - loss: 1.4649 - acc: 0.3744 - val_loss: 1.4466 - val_acc: 0.3970\n",
            "Epoch 34/100\n",
            "1338/1338 [==============================] - 1s 505us/step - loss: 1.4656 - acc: 0.3647 - val_loss: 1.4472 - val_acc: 0.3970\n",
            "Epoch 35/100\n",
            "1338/1338 [==============================] - 1s 504us/step - loss: 1.4510 - acc: 0.3909 - val_loss: 1.4427 - val_acc: 0.4060\n",
            "Epoch 36/100\n",
            "1338/1338 [==============================] - 1s 507us/step - loss: 1.4633 - acc: 0.3767 - val_loss: 1.4377 - val_acc: 0.4119\n",
            "Epoch 37/100\n",
            "1338/1338 [==============================] - 1s 503us/step - loss: 1.4608 - acc: 0.3812 - val_loss: 1.4385 - val_acc: 0.4090\n",
            "Epoch 38/100\n",
            "1338/1338 [==============================] - 1s 509us/step - loss: 1.4479 - acc: 0.4043 - val_loss: 1.4338 - val_acc: 0.4299\n",
            "Epoch 39/100\n",
            "1338/1338 [==============================] - 1s 509us/step - loss: 1.4476 - acc: 0.3819 - val_loss: 1.4310 - val_acc: 0.4239\n",
            "Epoch 40/100\n",
            "1338/1338 [==============================] - 1s 505us/step - loss: 1.4522 - acc: 0.3886 - val_loss: 1.4272 - val_acc: 0.4239\n",
            "Epoch 41/100\n",
            "1338/1338 [==============================] - 1s 506us/step - loss: 1.4507 - acc: 0.3946 - val_loss: 1.4299 - val_acc: 0.4149\n",
            "Epoch 42/100\n",
            "1338/1338 [==============================] - 1s 509us/step - loss: 1.4350 - acc: 0.3976 - val_loss: 1.4268 - val_acc: 0.4209\n",
            "Epoch 43/100\n",
            "1338/1338 [==============================] - 1s 500us/step - loss: 1.4495 - acc: 0.3857 - val_loss: 1.4247 - val_acc: 0.4269\n",
            "Epoch 44/100\n",
            "1338/1338 [==============================] - 1s 511us/step - loss: 1.4406 - acc: 0.3931 - val_loss: 1.4241 - val_acc: 0.4149\n",
            "Epoch 45/100\n",
            "1338/1338 [==============================] - 1s 509us/step - loss: 1.4554 - acc: 0.3931 - val_loss: 1.4231 - val_acc: 0.4328\n",
            "Epoch 46/100\n",
            "1338/1338 [==============================] - 1s 500us/step - loss: 1.4353 - acc: 0.3961 - val_loss: 1.4231 - val_acc: 0.3970\n",
            "Epoch 47/100\n",
            "1338/1338 [==============================] - 1s 510us/step - loss: 1.4308 - acc: 0.3984 - val_loss: 1.4183 - val_acc: 0.4179\n",
            "Epoch 48/100\n",
            "1338/1338 [==============================] - 1s 509us/step - loss: 1.4388 - acc: 0.4066 - val_loss: 1.4167 - val_acc: 0.4358\n",
            "Epoch 49/100\n",
            "1338/1338 [==============================] - 1s 503us/step - loss: 1.4288 - acc: 0.4170 - val_loss: 1.4155 - val_acc: 0.4328\n",
            "Epoch 50/100\n",
            "1338/1338 [==============================] - 1s 506us/step - loss: 1.4437 - acc: 0.3797 - val_loss: 1.4198 - val_acc: 0.4030\n",
            "Epoch 51/100\n",
            "1338/1338 [==============================] - 1s 504us/step - loss: 1.4287 - acc: 0.3924 - val_loss: 1.4163 - val_acc: 0.4060\n",
            "Epoch 52/100\n",
            "1338/1338 [==============================] - 1s 504us/step - loss: 1.4293 - acc: 0.4088 - val_loss: 1.4131 - val_acc: 0.4119\n",
            "Epoch 53/100\n",
            "1338/1338 [==============================] - 1s 506us/step - loss: 1.4384 - acc: 0.4073 - val_loss: 1.4142 - val_acc: 0.4060\n",
            "Epoch 54/100\n",
            "1338/1338 [==============================] - 1s 503us/step - loss: 1.4228 - acc: 0.4170 - val_loss: 1.4105 - val_acc: 0.4149\n",
            "Epoch 55/100\n",
            "1338/1338 [==============================] - 1s 503us/step - loss: 1.4280 - acc: 0.4013 - val_loss: 1.4075 - val_acc: 0.4418\n",
            "Epoch 56/100\n",
            "1338/1338 [==============================] - 1s 511us/step - loss: 1.4257 - acc: 0.4163 - val_loss: 1.4107 - val_acc: 0.4000\n",
            "Epoch 57/100\n",
            "1338/1338 [==============================] - 1s 508us/step - loss: 1.4293 - acc: 0.4036 - val_loss: 1.4074 - val_acc: 0.4358\n",
            "Epoch 58/100\n",
            "1338/1338 [==============================] - 1s 514us/step - loss: 1.4246 - acc: 0.4051 - val_loss: 1.4105 - val_acc: 0.4030\n",
            "Epoch 59/100\n",
            "1338/1338 [==============================] - 1s 518us/step - loss: 1.4235 - acc: 0.4111 - val_loss: 1.4055 - val_acc: 0.4209\n",
            "Epoch 60/100\n",
            "1338/1338 [==============================] - 1s 501us/step - loss: 1.4316 - acc: 0.3954 - val_loss: 1.4036 - val_acc: 0.4358\n",
            "Epoch 61/100\n",
            "1338/1338 [==============================] - 1s 506us/step - loss: 1.4242 - acc: 0.4066 - val_loss: 1.4037 - val_acc: 0.4537\n",
            "Epoch 62/100\n",
            "1338/1338 [==============================] - 1s 512us/step - loss: 1.4270 - acc: 0.4013 - val_loss: 1.4021 - val_acc: 0.4269\n",
            "Epoch 63/100\n",
            "1338/1338 [==============================] - 1s 509us/step - loss: 1.4348 - acc: 0.4021 - val_loss: 1.4099 - val_acc: 0.3881\n",
            "Epoch 64/100\n",
            "1338/1338 [==============================] - 1s 515us/step - loss: 1.4109 - acc: 0.3969 - val_loss: 1.4076 - val_acc: 0.3851\n",
            "Epoch 65/100\n",
            "1338/1338 [==============================] - 1s 514us/step - loss: 1.4194 - acc: 0.4126 - val_loss: 1.3994 - val_acc: 0.4299\n",
            "Epoch 66/100\n",
            "1338/1338 [==============================] - 1s 510us/step - loss: 1.4238 - acc: 0.3991 - val_loss: 1.3971 - val_acc: 0.4478\n",
            "Epoch 67/100\n",
            "1338/1338 [==============================] - 1s 507us/step - loss: 1.4146 - acc: 0.4073 - val_loss: 1.4006 - val_acc: 0.4000\n",
            "Epoch 68/100\n",
            "1338/1338 [==============================] - 1s 524us/step - loss: 1.4162 - acc: 0.4185 - val_loss: 1.4024 - val_acc: 0.3970\n",
            "Epoch 69/100\n",
            "1338/1338 [==============================] - 1s 508us/step - loss: 1.4130 - acc: 0.4126 - val_loss: 1.3969 - val_acc: 0.4090\n",
            "Epoch 70/100\n",
            "1338/1338 [==============================] - 1s 517us/step - loss: 1.4068 - acc: 0.4170 - val_loss: 1.3942 - val_acc: 0.4299\n",
            "Epoch 71/100\n",
            "1338/1338 [==============================] - 1s 513us/step - loss: 1.4129 - acc: 0.4200 - val_loss: 1.3952 - val_acc: 0.4269\n",
            "Epoch 72/100\n",
            "1338/1338 [==============================] - 1s 505us/step - loss: 1.4080 - acc: 0.4155 - val_loss: 1.3941 - val_acc: 0.4090\n",
            "Epoch 73/100\n",
            "1338/1338 [==============================] - 1s 507us/step - loss: 1.4100 - acc: 0.4365 - val_loss: 1.3961 - val_acc: 0.3940\n",
            "Epoch 74/100\n",
            "1338/1338 [==============================] - 1s 510us/step - loss: 1.4019 - acc: 0.4380 - val_loss: 1.3898 - val_acc: 0.4209\n",
            "Epoch 75/100\n",
            "1338/1338 [==============================] - 1s 503us/step - loss: 1.4124 - acc: 0.4200 - val_loss: 1.3901 - val_acc: 0.4299\n",
            "Epoch 76/100\n",
            "1338/1338 [==============================] - 1s 509us/step - loss: 1.4067 - acc: 0.4028 - val_loss: 1.3911 - val_acc: 0.4448\n",
            "Epoch 77/100\n",
            "1338/1338 [==============================] - 1s 512us/step - loss: 1.4205 - acc: 0.3939 - val_loss: 1.3897 - val_acc: 0.4328\n",
            "Epoch 78/100\n",
            "1338/1338 [==============================] - 1s 504us/step - loss: 1.4068 - acc: 0.4365 - val_loss: 1.3896 - val_acc: 0.4209\n",
            "Epoch 79/100\n",
            "1338/1338 [==============================] - 1s 505us/step - loss: 1.4040 - acc: 0.4305 - val_loss: 1.3860 - val_acc: 0.4418\n",
            "Epoch 80/100\n",
            "1338/1338 [==============================] - 1s 513us/step - loss: 1.4055 - acc: 0.4395 - val_loss: 1.3852 - val_acc: 0.4388\n",
            "Epoch 81/100\n",
            "1338/1338 [==============================] - 1s 502us/step - loss: 1.4080 - acc: 0.4223 - val_loss: 1.3882 - val_acc: 0.4000\n",
            "Epoch 82/100\n",
            "1338/1338 [==============================] - 1s 503us/step - loss: 1.3945 - acc: 0.4238 - val_loss: 1.3841 - val_acc: 0.4209\n",
            "Epoch 83/100\n",
            "1338/1338 [==============================] - 1s 508us/step - loss: 1.4073 - acc: 0.4208 - val_loss: 1.3856 - val_acc: 0.4090\n",
            "Epoch 84/100\n",
            "1338/1338 [==============================] - 1s 504us/step - loss: 1.3917 - acc: 0.4133 - val_loss: 1.3829 - val_acc: 0.4209\n",
            "Epoch 85/100\n",
            "1338/1338 [==============================] - 1s 508us/step - loss: 1.4007 - acc: 0.4141 - val_loss: 1.3807 - val_acc: 0.4269\n",
            "Epoch 86/100\n",
            "1338/1338 [==============================] - 1s 511us/step - loss: 1.4095 - acc: 0.4290 - val_loss: 1.3811 - val_acc: 0.4299\n",
            "Epoch 87/100\n",
            "1338/1338 [==============================] - 1s 502us/step - loss: 1.4011 - acc: 0.4215 - val_loss: 1.3842 - val_acc: 0.3970\n",
            "Epoch 88/100\n",
            "1338/1338 [==============================] - 1s 505us/step - loss: 1.3956 - acc: 0.4193 - val_loss: 1.3769 - val_acc: 0.4448\n",
            "Epoch 89/100\n",
            "1338/1338 [==============================] - 1s 517us/step - loss: 1.3901 - acc: 0.4320 - val_loss: 1.3803 - val_acc: 0.4358\n",
            "Epoch 90/100\n",
            "1338/1338 [==============================] - 1s 505us/step - loss: 1.3964 - acc: 0.4185 - val_loss: 1.3773 - val_acc: 0.4478\n",
            "Epoch 91/100\n",
            "1338/1338 [==============================] - 1s 507us/step - loss: 1.3961 - acc: 0.4439 - val_loss: 1.3764 - val_acc: 0.4388\n",
            "Epoch 92/100\n",
            "1338/1338 [==============================] - 1s 508us/step - loss: 1.4114 - acc: 0.4320 - val_loss: 1.3791 - val_acc: 0.4299\n",
            "Epoch 93/100\n",
            "1338/1338 [==============================] - 1s 502us/step - loss: 1.4073 - acc: 0.4290 - val_loss: 1.3768 - val_acc: 0.4418\n",
            "Epoch 94/100\n",
            "1338/1338 [==============================] - 1s 506us/step - loss: 1.3999 - acc: 0.4230 - val_loss: 1.3761 - val_acc: 0.4507\n",
            "Epoch 95/100\n",
            "1338/1338 [==============================] - 1s 505us/step - loss: 1.3962 - acc: 0.4425 - val_loss: 1.3783 - val_acc: 0.4119\n",
            "Epoch 96/100\n",
            "1338/1338 [==============================] - 1s 508us/step - loss: 1.3992 - acc: 0.4297 - val_loss: 1.3768 - val_acc: 0.4418\n",
            "Epoch 97/100\n",
            "1338/1338 [==============================] - 1s 508us/step - loss: 1.4020 - acc: 0.4357 - val_loss: 1.3794 - val_acc: 0.4030\n",
            "Epoch 98/100\n",
            "1338/1338 [==============================] - 1s 512us/step - loss: 1.4043 - acc: 0.4253 - val_loss: 1.3770 - val_acc: 0.4448\n",
            "Epoch 99/100\n",
            "1338/1338 [==============================] - 1s 504us/step - loss: 1.3975 - acc: 0.4320 - val_loss: 1.3770 - val_acc: 0.4388\n",
            "Epoch 100/100\n",
            "1338/1338 [==============================] - 1s 513us/step - loss: 1.3806 - acc: 0.4559 - val_loss: 1.3745 - val_acc: 0.4418\n"
          ],
          "name": "stdout"
        }
      ]
    },
    {
      "cell_type": "code",
      "metadata": {
        "id": "rQSP8HrUx_y6",
        "colab_type": "code",
        "colab": {}
      },
      "source": [
        "# guardamos la red, para reutilizarla en el futuro, sin tener que volver a entrenar\n",
        "material_model.save(\"material_mnist.h5py\")"
      ],
      "execution_count": 0,
      "outputs": []
    },
    {
      "cell_type": "code",
      "metadata": {
        "id": "8rBvmcGUyMQ4",
        "colab_type": "code",
        "outputId": "5b2fbc09-62f3-49c9-dd4f-96172afe2b68",
        "colab": {
          "base_uri": "https://localhost:8080/",
          "height": 33
        }
      },
      "source": [
        "test_eval = material_model.evaluate(test_X, test_Y_one_hot, verbose=1)"
      ],
      "execution_count": 0,
      "outputs": [
        {
          "output_type": "stream",
          "text": [
            "717/717 [==============================] - 0s 246us/step\n"
          ],
          "name": "stdout"
        }
      ]
    },
    {
      "cell_type": "code",
      "metadata": {
        "id": "yB8JFkn7yTd0",
        "colab_type": "code",
        "outputId": "f61ea3fd-97c4-4b8b-ac67-6a03babbd52e",
        "colab": {
          "base_uri": "https://localhost:8080/",
          "height": 50
        }
      },
      "source": [
        "print('Test loss:', test_eval[0])\n",
        "print('Test accuracy:', test_eval[1])"
      ],
      "execution_count": 0,
      "outputs": [
        {
          "output_type": "stream",
          "text": [
            "Test loss: 1.3656227726650372\n",
            "Test accuracy: 0.46443514656821056\n"
          ],
          "name": "stdout"
        }
      ]
    },
    {
      "cell_type": "code",
      "metadata": {
        "id": "pKQ-B88eyWIH",
        "colab_type": "code",
        "outputId": "6ccde002-ab92-49fa-c607-b352fa093231",
        "colab": {
          "base_uri": "https://localhost:8080/",
          "height": 545
        }
      },
      "source": [
        "accuracy = material_train.history['acc']\n",
        "val_accuracy = material_train.history['val_acc']\n",
        "loss = material_train.history['loss']\n",
        "val_loss = material_train.history['val_loss']\n",
        "epochs = range(len(accuracy))\n",
        "plt.plot(epochs, accuracy, 'bo', label='Training accuracy')\n",
        "plt.plot(epochs, val_accuracy, 'b', label='Validation accuracy')\n",
        "plt.title('Training and validation accuracy')\n",
        "plt.legend()\n",
        "plt.figure()\n",
        "plt.plot(epochs, loss, 'bo', label='Training loss')\n",
        "plt.plot(epochs, val_loss, 'b', label='Validation loss')\n",
        "plt.title('Training and validation loss')\n",
        "plt.legend()\n",
        "plt.show()"
      ],
      "execution_count": 0,
      "outputs": [
        {
          "output_type": "display_data",
          "data": {
            "image/png": "[encoded data removed]",
            "text/plain": [
              "<Figure size 432x288 with 1 Axes>"
            ]
          },
          "metadata": {
            "tags": []
          }
        },
        {
          "output_type": "display_data",
          "data": {
            "image/png": "[encoded data removed]",
            "text/plain": [
              "<Figure size 432x288 with 1 Axes>"
            ]
          },
          "metadata": {
            "tags": []
          }
        }
      ]
    },
    {
      "cell_type": "code",
      "metadata": {
        "id": "hfIABZeg_iGm",
        "colab_type": "code",
        "colab": {}
      },
      "source": [
        ""
      ],
      "execution_count": 0,
      "outputs": []
    },
    {
      "cell_type": "code",
      "metadata": {
        "id": "lxM5kM66ygqd",
        "colab_type": "code",
        "colab": {}
      },
      "source": [
        "predicted_classes2 = material_model.predict(test_X)\n"
      ],
      "execution_count": 0,
      "outputs": []
    },
    {
      "cell_type": "code",
      "metadata": {
        "id": "TRfhSUYdyhNX",
        "colab_type": "code",
        "colab": {}
      },
      "source": [
        "predicted_classes=[]\n",
        "for predicted_material in predicted_classes2:\n",
        "    predicted_classes.append(predicted_material.tolist().index(max(predicted_material)))\n",
        "predicted_classes=np.array(predicted_classes)"
      ],
      "execution_count": 0,
      "outputs": []
    },
    {
      "cell_type": "code",
      "metadata": {
        "id": "YdClHvVoyhDI",
        "colab_type": "code",
        "outputId": "6874a7de-3327-4da0-f6a8-956dbc04a971",
        "colab": {
          "base_uri": "https://localhost:8080/",
          "height": 33
        }
      },
      "source": [
        "predicted_classes.shape, test_Y.shape"
      ],
      "execution_count": 0,
      "outputs": [
        {
          "output_type": "execute_result",
          "data": {
            "text/plain": [
              "((717,), (717,))"
            ]
          },
          "metadata": {
            "tags": []
          },
          "execution_count": 173
        }
      ]
    },
    {
      "cell_type": "code",
      "metadata": {
        "id": "FhZp7xMoysfl",
        "colab_type": "code",
        "outputId": "afd3ebc7-2499-4ea4-bb63-1044da351534",
        "colab": {
          "base_uri": "https://localhost:8080/",
          "height": 313
        }
      },
      "source": [
        "#Qué mejorar\n",
        "correct = np.where(predicted_classes==test_Y)[0]\n",
        "print(\"Found %d correct labels\" % len(correct))\n",
        "for i, correct in enumerate(correct[0:9]):\n",
        "    plt.subplot(3,3,i+1)\n",
        "    plt.imshow(test_X[correct].reshape(96,128,3), cmap='gray')\n",
        "    plt.title(\"{}, {}\".format(materiales[predicted_classes[correct]],\n",
        "                                                    materiales[test_Y[correct]]))\n",
        "\n",
        "    plt.tight_layout()"
      ],
      "execution_count": 0,
      "outputs": [
        {
          "output_type": "stream",
          "text": [
            "Found 333 correct labels\n"
          ],
          "name": "stdout"
        },
        {
          "output_type": "display_data",
          "data": {
            "image/png": "[encoded data removed]",
            "text/plain": [
              "<Figure size 432x288 with 8 Axes>"
            ]
          },
          "metadata": {
            "tags": []
          }
        }
      ]
    },
    {
      "cell_type": "code",
      "metadata": {
        "id": "l0sPrbwj59SA",
        "colab_type": "code",
        "outputId": "1afe815e-55b7-49d9-b333-33d294df2d01",
        "colab": {
          "base_uri": "https://localhost:8080/",
          "height": 313
        }
      },
      "source": [
        "incorrect = np.where(predicted_classes!=test_Y)[0]\n",
        "print(\"Found %d incorrect labels\" % len(incorrect))\n",
        "for i, incorrect in enumerate(incorrect[0:9]):\n",
        "    plt.subplot(3,3,i+1)\n",
        "    plt.imshow(test_X[incorrect].reshape(96,128,3), cmap='gray', interpolation='none')\n",
        "    plt.title(\"{}, {}\".format(materiales[predicted_classes[incorrect]],\n",
        "                                                    materiales[test_Y[incorrect]]))\n",
        "    plt.tight_layout()"
      ],
      "execution_count": 0,
      "outputs": [
        {
          "output_type": "stream",
          "text": [
            "Found 384 incorrect labels\n"
          ],
          "name": "stdout"
        },
        {
          "output_type": "display_data",
          "data": {
            "image/png": "[encoded data removed]",
            "text/plain": [
              "<Figure size 432x288 with 8 Axes>"
            ]
          },
          "metadata": {
            "tags": []
          }
        }
      ]
    },
    {
      "cell_type": "code",
      "metadata": {
        "id": "CHiQVfu65_nn",
        "colab_type": "code",
        "outputId": "83fc6792-7b2f-419d-cc32-fc43ef682dbb",
        "colab": {
          "base_uri": "https://localhost:8080/",
          "height": 212
        }
      },
      "source": [
        "target_names = [\"Class {}\".format(i) for i in range(nClasses)]\n",
        "print(classification_report(test_Y, predicted_classes, target_names=target_names))"
      ],
      "execution_count": 0,
      "outputs": [
        {
          "output_type": "stream",
          "text": [
            "              precision    recall  f1-score   support\n",
            "\n",
            "     Class 0       0.63      0.65      0.64       119\n",
            "     Class 1       0.44      0.26      0.33       152\n",
            "     Class 2       0.47      0.61      0.53       179\n",
            "     Class 3       0.40      0.57      0.47       149\n",
            "     Class 4       0.37      0.19      0.25       118\n",
            "\n",
            "    accuracy                           0.46       717\n",
            "   macro avg       0.46      0.46      0.44       717\n",
            "weighted avg       0.46      0.46      0.45       717\n",
            "\n"
          ],
          "name": "stdout"
        }
      ]
    }
  ]
}